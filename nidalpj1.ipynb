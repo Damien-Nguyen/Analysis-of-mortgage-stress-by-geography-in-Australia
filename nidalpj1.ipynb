{
 "cells": [
  {
   "cell_type": "code",
   "execution_count": 4,
   "metadata": {},
   "outputs": [
    {
     "name": "stdout",
     "output_type": "stream",
     "text": [
      "Brookvale, Sydney, Northern Beaches Council, New South Wales, 2100, Australia\n",
      "Latitude =  -33.7628854 \n",
      "\n",
      "Longitude =  151.2707024\n"
     ]
    }
   ],
   "source": [
    "from geopy.geocoders import Nominatim\n",
    "\n",
    "# calling the Nominatim tool\n",
    "loc = Nominatim(user_agent=\"GetLoc\")\n",
    "\n",
    "# entering the location name\n",
    "getLoc = loc.geocode(\"Brookvale, Sydney, NSW\")\n",
    "\n",
    "# printing address\n",
    "print(getLoc.address)\n",
    "print(\"Latitude = \", getLoc.latitude, \"\\n\")\n",
    "print(\"Longitude = \", getLoc.longitude)"
   ]
  },
  {
   "cell_type": "code",
   "execution_count": 10,
   "metadata": {},
   "outputs": [
    {
     "name": "stdout",
     "output_type": "stream",
     "text": [
      "Sydney City: Latitude=-33.8698439, Longitude=151.2082848\n",
      "Sydney Inner South: Latitude=-33.866276400000004, Longitude=151.16274540168126\n",
      "Eastern Sydney: Latitude=14.6739217, Longitude=121.1028714\n",
      "Inner South West Sydney: Latitude=-33.8783793, Longitude=151.13173353903153\n",
      "Sydney Inner West: Latitude=-33.8783793, Longitude=151.13173353903153\n",
      "North Sydney: Latitude=-33.8354519, Longitude=151.2083011\n",
      "Baulkham Hills Sydney: Latitude=-33.7611198, Longitude=150.9914041\n"
     ]
    }
   ],
   "source": [
    "from geopy.geocoders import Nominatim\n",
    "geolocator = Nominatim(user_agent=\"geoapiExercises\")\n",
    "\n",
    "def get_latitude_longitude(location):\n",
    "    location = geolocator.geocode(location)\n",
    "    return location.latitude, location.longitude\n",
    "\n",
    "locations = ['Sydney City', 'Sydney Inner South', 'Eastern Sydney', 'Inner South West Sydney', 'Sydney Inner West', 'North Sydney', 'Baulkham Hills Sydney']\n",
    "for location in locations:\n",
    "    latitude, longitude = get_latitude_longitude(location)\n",
    "    print(f\"{location}: Latitude={latitude}, Longitude={longitude}\")"
   ]
  },
  {
   "cell_type": "code",
   "execution_count": 14,
   "metadata": {},
   "outputs": [
    {
     "data": {
      "text/html": [
       "<div style=\"width:100%;\"><div style=\"position:relative;width:100%;height:0;padding-bottom:60%;\"><span style=\"color:#565656\">Make this Notebook Trusted to load map: File -> Trust Notebook</span><iframe srcdoc=\"&lt;!DOCTYPE html&gt;\n",
       "&lt;html&gt;\n",
       "&lt;head&gt;\n",
       "    \n",
       "    &lt;meta http-equiv=&quot;content-type&quot; content=&quot;text/html; charset=UTF-8&quot; /&gt;\n",
       "    \n",
       "        &lt;script&gt;\n",
       "            L_NO_TOUCH = false;\n",
       "            L_DISABLE_3D = false;\n",
       "        &lt;/script&gt;\n",
       "    \n",
       "    &lt;style&gt;html, body {width: 100%;height: 100%;margin: 0;padding: 0;}&lt;/style&gt;\n",
       "    &lt;style&gt;#map {position:absolute;top:0;bottom:0;right:0;left:0;}&lt;/style&gt;\n",
       "    &lt;script src=&quot;https://cdn.jsdelivr.net/npm/leaflet@1.9.3/dist/leaflet.js&quot;&gt;&lt;/script&gt;\n",
       "    &lt;script src=&quot;https://code.jquery.com/jquery-1.12.4.min.js&quot;&gt;&lt;/script&gt;\n",
       "    &lt;script src=&quot;https://cdn.jsdelivr.net/npm/bootstrap@5.2.2/dist/js/bootstrap.bundle.min.js&quot;&gt;&lt;/script&gt;\n",
       "    &lt;script src=&quot;https://cdnjs.cloudflare.com/ajax/libs/Leaflet.awesome-markers/2.0.2/leaflet.awesome-markers.js&quot;&gt;&lt;/script&gt;\n",
       "    &lt;link rel=&quot;stylesheet&quot; href=&quot;https://cdn.jsdelivr.net/npm/leaflet@1.9.3/dist/leaflet.css&quot;/&gt;\n",
       "    &lt;link rel=&quot;stylesheet&quot; href=&quot;https://cdn.jsdelivr.net/npm/bootstrap@5.2.2/dist/css/bootstrap.min.css&quot;/&gt;\n",
       "    &lt;link rel=&quot;stylesheet&quot; href=&quot;https://netdna.bootstrapcdn.com/bootstrap/3.0.0/css/bootstrap.min.css&quot;/&gt;\n",
       "    &lt;link rel=&quot;stylesheet&quot; href=&quot;https://cdn.jsdelivr.net/npm/@fortawesome/fontawesome-free@6.2.0/css/all.min.css&quot;/&gt;\n",
       "    &lt;link rel=&quot;stylesheet&quot; href=&quot;https://cdnjs.cloudflare.com/ajax/libs/Leaflet.awesome-markers/2.0.2/leaflet.awesome-markers.css&quot;/&gt;\n",
       "    &lt;link rel=&quot;stylesheet&quot; href=&quot;https://cdn.jsdelivr.net/gh/python-visualization/folium/folium/templates/leaflet.awesome.rotate.min.css&quot;/&gt;\n",
       "    \n",
       "            &lt;meta name=&quot;viewport&quot; content=&quot;width=device-width,\n",
       "                initial-scale=1.0, maximum-scale=1.0, user-scalable=no&quot; /&gt;\n",
       "            &lt;style&gt;\n",
       "                #map_0b8ad1795dd1d072dff0faf279a62671 {\n",
       "                    position: relative;\n",
       "                    width: 100.0%;\n",
       "                    height: 100.0%;\n",
       "                    left: 0.0%;\n",
       "                    top: 0.0%;\n",
       "                }\n",
       "                .leaflet-container { font-size: 1rem; }\n",
       "            &lt;/style&gt;\n",
       "        \n",
       "&lt;/head&gt;\n",
       "&lt;body&gt;\n",
       "    \n",
       "    \n",
       "            &lt;div class=&quot;folium-map&quot; id=&quot;map_0b8ad1795dd1d072dff0faf279a62671&quot; &gt;&lt;/div&gt;\n",
       "        \n",
       "&lt;/body&gt;\n",
       "&lt;script&gt;\n",
       "    \n",
       "    \n",
       "            var map_0b8ad1795dd1d072dff0faf279a62671 = L.map(\n",
       "                &quot;map_0b8ad1795dd1d072dff0faf279a62671&quot;,\n",
       "                {\n",
       "                    center: [-33.87, 151.21],\n",
       "                    crs: L.CRS.EPSG3857,\n",
       "                    zoom: 12,\n",
       "                    zoomControl: true,\n",
       "                    preferCanvas: false,\n",
       "                }\n",
       "            );\n",
       "\n",
       "            \n",
       "\n",
       "        \n",
       "    \n",
       "            var tile_layer_ea884770261aefa75083cb4625acbc80 = L.tileLayer(\n",
       "                &quot;https://{s}.tile.openstreetmap.org/{z}/{x}/{y}.png&quot;,\n",
       "                {&quot;attribution&quot;: &quot;Data by \\u0026copy; \\u003ca target=\\&quot;_blank\\&quot; href=\\&quot;http://openstreetmap.org\\&quot;\\u003eOpenStreetMap\\u003c/a\\u003e, under \\u003ca target=\\&quot;_blank\\&quot; href=\\&quot;http://www.openstreetmap.org/copyright\\&quot;\\u003eODbL\\u003c/a\\u003e.&quot;, &quot;detectRetina&quot;: false, &quot;maxNativeZoom&quot;: 18, &quot;maxZoom&quot;: 18, &quot;minZoom&quot;: 0, &quot;noWrap&quot;: false, &quot;opacity&quot;: 1, &quot;subdomains&quot;: &quot;abc&quot;, &quot;tms&quot;: false}\n",
       "            ).addTo(map_0b8ad1795dd1d072dff0faf279a62671);\n",
       "        \n",
       "    \n",
       "            var marker_b59a4bcec6ccb1bfba60fee1d6c6ca6c = L.marker(\n",
       "                [-33.866276400000004, 151.16274540168126],\n",
       "                {}\n",
       "            ).addTo(map_0b8ad1795dd1d072dff0faf279a62671);\n",
       "        \n",
       "    \n",
       "        var popup_f5f13617829cbdefc85f3683931a229b = L.popup({&quot;maxWidth&quot;: &quot;100%&quot;});\n",
       "\n",
       "        \n",
       "            \n",
       "                var html_fca292fa60d4d351db4b255329243cd6 = $(`&lt;div id=&quot;html_fca292fa60d4d351db4b255329243cd6&quot; style=&quot;width: 100.0%; height: 100.0%;&quot;&gt;Sydney Inner South&lt;/div&gt;`)[0];\n",
       "                popup_f5f13617829cbdefc85f3683931a229b.setContent(html_fca292fa60d4d351db4b255329243cd6);\n",
       "            \n",
       "        \n",
       "\n",
       "        marker_b59a4bcec6ccb1bfba60fee1d6c6ca6c.bindPopup(popup_f5f13617829cbdefc85f3683931a229b)\n",
       "        ;\n",
       "\n",
       "        \n",
       "    \n",
       "    \n",
       "            var marker_e3be6da1703fd07e2b1cd3ce622f73f3 = L.marker(\n",
       "                [-33.86, 151.19],\n",
       "                {}\n",
       "            ).addTo(map_0b8ad1795dd1d072dff0faf279a62671);\n",
       "        \n",
       "    \n",
       "        var popup_da2bda85e6374ab7c126c6bf6942d988 = L.popup({&quot;maxWidth&quot;: &quot;100%&quot;});\n",
       "\n",
       "        \n",
       "            \n",
       "                var html_d572aa919975cd6894c7dad32b636577 = $(`&lt;div id=&quot;html_d572aa919975cd6894c7dad32b636577&quot; style=&quot;width: 100.0%; height: 100.0%;&quot;&gt;Sydney Harbour Bridge&lt;/div&gt;`)[0];\n",
       "                popup_da2bda85e6374ab7c126c6bf6942d988.setContent(html_d572aa919975cd6894c7dad32b636577);\n",
       "            \n",
       "        \n",
       "\n",
       "        marker_e3be6da1703fd07e2b1cd3ce622f73f3.bindPopup(popup_da2bda85e6374ab7c126c6bf6942d988)\n",
       "        ;\n",
       "\n",
       "        \n",
       "    \n",
       "&lt;/script&gt;\n",
       "&lt;/html&gt;\" style=\"position:absolute;width:100%;height:100%;left:0;top:0;border:none !important;\" allowfullscreen webkitallowfullscreen mozallowfullscreen></iframe></div></div>"
      ],
      "text/plain": [
       "<folium.folium.Map at 0x7f8ea9015bd0>"
      ]
     },
     "metadata": {},
     "output_type": "display_data"
    }
   ],
   "source": [
    "import folium\n",
    "\n",
    "sydney_map = folium.Map(location=[-33.87, 151.21], zoom_start=12)\n",
    "folium.Marker(\n",
    "    location=[-33.866276400000004, 151.16274540168126],\n",
    "    popup='Sydney Inner South',\n",
    "    icon=None,\n",
    ").add_to(sydney_map)\n",
    "\n",
    "folium.Marker(\n",
    "    location=[-33.86, 151.19],\n",
    "    popup='Eastern Sydney',\n",
    "    icon=None,\n",
    ").add_to(sydney_map)\n",
    "\n",
    "folium.Marker(\n",
    "    location=[-33.86, 151.19],\n",
    "    popup='Sydney Harbour Bridge',\n",
    "    icon=None,\n",
    ").add_to(sydney_map)\n",
    "\n",
    "folium.Marker(\n",
    "    location=[-33.86, 151.19],\n",
    "    popup='Sydney Harbour Bridge',\n",
    "    icon=None,\n",
    ").add_to(sydney_map)\n",
    "\n",
    "from IPython.display import display\n",
    "display(sydney_map)"
   ]
  },
  {
   "cell_type": "markdown",
   "metadata": {},
   "source": []
  }
 ],
 "metadata": {
  "kernelspec": {
   "display_name": "Python 3 (ipykernel)",
   "language": "python",
   "name": "python3"
  },
  "language_info": {
   "codemirror_mode": {
    "name": "ipython",
    "version": 3
   },
   "file_extension": ".py",
   "mimetype": "text/x-python",
   "name": "python",
   "nbconvert_exporter": "python",
   "pygments_lexer": "ipython3",
   "version": "3.7.13"
  },
  "vscode": {
   "interpreter": {
    "hash": "24cf6e46bb31e04c256d31d60e3ee9d6e7dcfebae94e45dc6c190446b8694521"
   }
  }
 },
 "nbformat": 4,
 "nbformat_minor": 4
}
