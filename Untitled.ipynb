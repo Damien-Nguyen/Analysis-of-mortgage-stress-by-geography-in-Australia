{
 "cells": [
  {
   "cell_type": "code",
   "execution_count": null,
   "id": "058b6a83-4f5d-4d03-84d9-2a6b925f1861",
   "metadata": {},
   "outputs": [],
   "source": []
  }
 ],
 "metadata": {
  "kernelspec": {
   "display_name": "dev",
   "language": "python",
   "name": "dev"
  },
  "language_info": {
   "codemirror_mode": {
    "name": "ipython",
    "version": 3
   },
   "file_extension": ".py",
   "mimetype": "text/x-python",
   "name": "python",
   "nbconvert_exporter": "python",
   "pygments_lexer": "ipython3",
   "version": "3.7.15"
  }
 },
 "nbformat": 4,
 "nbformat_minor": 5
}
